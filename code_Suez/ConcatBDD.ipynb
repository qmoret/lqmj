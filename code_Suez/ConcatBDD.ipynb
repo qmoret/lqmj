{
 "cells": [
  {
   "cell_type": "code",
   "execution_count": 249,
   "metadata": {
    "collapsed": true
   },
   "outputs": [],
   "source": [
    "import pandas as pd\n",
    "import numpy as np\n",
    "from sklearn.preprocessing import LabelEncoder"
   ]
  },
  {
   "cell_type": "code",
   "execution_count": 250,
   "metadata": {
    "collapsed": false
   },
   "outputs": [],
   "source": [
    "# Loading all data bases \n",
    "\n",
    "branchements = pd.read_csv('../data_SUEZ/branchements.csv')\n",
    "canalisations = pd.read_csv('../data_SUEZ/canalisations.csv')\n",
    "evenements_train = pd.read_csv('../data_SUEZ/evenements_train.csv')\n",
    "meteo_AlpesMaritimes = pd.read_csv('../data_SUEZ/meteo_AlpesMaritimes_pre_traite.csv')\n",
    "nb_ev_train = pd.read_csv('../data_SUEZ/nb_ev_train.csv')\n",
    "permut_train = pd.read_csv('../data_SUEZ/permut_train.csv')\n",
    "stations_AlpesMaritimes = pd.read_csv('../data_SUEZ/stations_AlpesMaritimes.csv')"
   ]
  },
  {
   "cell_type": "markdown",
   "metadata": {},
   "source": [
    "# Preprocessing"
   ]
  },
  {
   "cell_type": "markdown",
   "metadata": {},
   "source": [
    "## Jointure"
   ]
  },
  {
   "cell_type": "code",
   "execution_count": 251,
   "metadata": {
    "collapsed": false
   },
   "outputs": [],
   "source": [
    "# Renaming columns\n",
    "\n",
    "evenements_train.columns= ['GID_fuite', 'CODINSEE_fuite', 'date_fuite', 'GID_pose', 'COMPO_P', 'geometry_fuite']\n",
    "branchements.columns= ['GID_pose', 'CODINSEE_pose', 'date_pose', 'DIAMETRE', 'DIAMEXT', 'DIAMINT', 'ETAGE',\n",
    "       'GEORIENT', 'LONGCALC', 'MATERIAU', 'geometry_pose']\n",
    "canalisations.columns= ['GID_pose', 'CODINSEE_pose', 'date_pose', 'DIAMETRE', 'DIAMEXT', 'DIAMINT', 'ETAGE',\n",
    "       'GEORIENT', 'LONGCALC', 'MATERIAU', 'geometry_pose']"
   ]
  },
  {
   "cell_type": "code",
   "execution_count": 252,
   "metadata": {
    "collapsed": true
   },
   "outputs": [],
   "source": [
    "evenements_train['fuite'] = 1"
   ]
  },
  {
   "cell_type": "code",
   "execution_count": 253,
   "metadata": {
    "collapsed": false
   },
   "outputs": [],
   "source": [
    "# Différencier les GID des branchements et des canalisations\n",
    "\n",
    "evenements_train['ajout_branch'] = '_b'\n",
    "evenements_train['ajout_can'] = '_c'\n",
    "evenements_train.ix[(evenements_train.COMPO_P == 'E_BRANCH'),'GID_pose'] = evenements_train.ix[(evenements_train.COMPO_P == 'E_BRANCH'),'GID_pose'].map(str) + evenements_train.ix[(evenements_train.COMPO_P == 'E_BRANCH'),'ajout_branch']\n",
    "evenements_train.ix[(evenements_train.COMPO_P == 'E_TRONCO'),'GID_pose'] = evenements_train.ix[(evenements_train.COMPO_P == 'E_TRONCO'),'GID_pose'].map(str) + evenements_train.ix[(evenements_train.COMPO_P == 'E_TRONCO'),'ajout_can']\n",
    "evenements_train.drop('ajout_branch', axis=1, inplace=True)\n",
    "evenements_train.drop('ajout_can', axis=1, inplace=True)\n",
    "\n",
    "branchements['ajout_branch'] = '_b'\n",
    "branchements.GID_pose = branchements.GID_pose.map(str) + branchements.ajout_branch\n",
    "branchements.drop('ajout_branch', axis=1, inplace=True)\n",
    "\n",
    "canalisations['ajout_can'] = '_c'\n",
    "canalisations.GID_pose = canalisations.GID_pose.map(str) + canalisations.ajout_can\n",
    "canalisations.drop('ajout_can', axis=1, inplace=True)"
   ]
  },
  {
   "cell_type": "code",
   "execution_count": 254,
   "metadata": {
    "collapsed": false
   },
   "outputs": [],
   "source": [
    "# Merge elements on evenements (creation BDD complète)\n",
    "\n",
    "elements = pd.concat([canalisations, branchements])\n",
    "data = pd.merge(elements, evenements_train, on = 'GID_pose', how = 'left')"
   ]
  },
  {
   "cell_type": "markdown",
   "metadata": {},
   "source": [
    "## Feature engineering"
   ]
  },
  {
   "cell_type": "code",
   "execution_count": 255,
   "metadata": {
    "collapsed": true
   },
   "outputs": [],
   "source": [
    "# Utiliser le code INSEE de la fuite quand on l'a plutot que celui de la pose\n",
    "data.ix[~data.CODINSEE_fuite.isnull(), 'CODINSEE_pose'] = data.ix[~data.CODINSEE_fuite.isnull(), 'CODINSEE_fuite']\n",
    "data.drop('CODINSEE_fuite', axis = 1, inplace = True)"
   ]
  },
  {
   "cell_type": "code",
   "execution_count": 256,
   "metadata": {
    "collapsed": false
   },
   "outputs": [],
   "source": [
    "# Convertir âge\n",
    "\n",
    "def to_day(x):\n",
    "    if (str(x) == 'NaT'):\n",
    "        return np.nan\n",
    "    else:\n",
    "        return x.days\n",
    "\n",
    "data['age'] = pd.to_datetime('2016-12-31') - pd.to_datetime(data['date_pose'])\n",
    "data.age = data.age.map(to_day)"
   ]
  },
  {
   "cell_type": "code",
   "execution_count": 257,
   "metadata": {
    "collapsed": true
   },
   "outputs": [],
   "source": [
    "data.ix[data.fuite.isnull(), 'fuite'] = 0"
   ]
  },
  {
   "cell_type": "code",
   "execution_count": 258,
   "metadata": {
    "collapsed": false
   },
   "outputs": [],
   "source": [
    "# Encode categorical variables\n",
    "\n",
    "le = LabelEncoder()\n",
    "mapping = dict()\n",
    "for col, dtype in zip(data.columns, data.dtypes):\n",
    "    if dtype == 'object':\n",
    "        data[col] = data[col].apply(lambda s: str(s))\n",
    "        # Replace 0 and NaNs with unique label : 'None'\n",
    "        data[col] = data[col].where(~data[col].isin(['0', 'nan']), 'None')\n",
    "        data[col] = le.fit_transform(data[col])\n",
    "        mapping[col] = dict(zip(le.inverse_transform(data[col].unique()), data[col].unique()))"
   ]
  },
  {
   "cell_type": "code",
   "execution_count": 259,
   "metadata": {
    "collapsed": false
   },
   "outputs": [],
   "source": [
    "# Replace NaNs with 0\n",
    "data = data.apply(lambda x: x.fillna(x.mean()),axis=0)"
   ]
  },
  {
   "cell_type": "markdown",
   "metadata": {},
   "source": [
    "# Training"
   ]
  },
  {
   "cell_type": "markdown",
   "metadata": {},
   "source": [
    "## Séparation submit et jeu d'entrainement"
   ]
  },
  {
   "cell_type": "code",
   "execution_count": 260,
   "metadata": {
    "collapsed": true
   },
   "outputs": [],
   "source": [
    "# Séparer le dataset d'entrainment du dataset de test\n",
    "test_insee = [6003, 6004, 6016, 6030, 6070, 6095, 6108, 6112, 6116, 6138, 6152]\n",
    "data_known = data[~data['CODINSEE_pose'].isin(test_insee)]\n",
    "submit = data[data['CODINSEE_pose'].isin(test_insee)]"
   ]
  },
  {
   "cell_type": "code",
   "execution_count": 261,
   "metadata": {
    "collapsed": false
   },
   "outputs": [],
   "source": [
    "submit = submit.reset_index().ix[:,1:18]\n",
    "submit_CODINSEE = submit.CODINSEE_pose"
   ]
  },
  {
   "cell_type": "code",
   "execution_count": 262,
   "metadata": {
    "collapsed": false
   },
   "outputs": [],
   "source": [
    "# Remove unnecessary columns\n",
    "fuite_columns = ['GID_fuite', 'date_fuite', 'geometry_fuite']\n",
    "id_columns = ['GID_pose', 'CODINSEE_pose']\n",
    "a_predir = ['fuite']\n",
    "autres = ['GEORIENT', 'date_pose', 'geometry_pose', 'ETAGE', 'DIAMINT', 'DIAMEXT']\n",
    "mask = id_columns + fuite_columns + a_predir + autres  # geometry_pose pas encore exploitable\n",
    "\n",
    "X = data_known.drop(mask, axis = 1)\n",
    "y = data_known['fuite']\n",
    "\n",
    "X_submit = submit.drop(mask, axis = 1)"
   ]
  },
  {
   "cell_type": "markdown",
   "metadata": {},
   "source": [
    "## Random Forest"
   ]
  },
  {
   "cell_type": "code",
   "execution_count": 263,
   "metadata": {
    "collapsed": false
   },
   "outputs": [
    {
     "data": {
      "text/plain": [
       "RandomForestClassifier(bootstrap=True, class_weight=None, criterion='gini',\n",
       "            max_depth=None, max_features='auto', max_leaf_nodes=None,\n",
       "            min_samples_leaf=1, min_samples_split=2,\n",
       "            min_weight_fraction_leaf=0.0, n_estimators=10, n_jobs=1,\n",
       "            oob_score=False, random_state=None, verbose=0,\n",
       "            warm_start=False)"
      ]
     },
     "execution_count": 263,
     "metadata": {},
     "output_type": "execute_result"
    }
   ],
   "source": [
    "from sklearn.ensemble import RandomForestClassifier\n",
    "clf = RandomForestClassifier()\n",
    "\n",
    "clf.fit(X,y)"
   ]
  },
  {
   "cell_type": "code",
   "execution_count": 264,
   "metadata": {
    "collapsed": false
   },
   "outputs": [],
   "source": [
    "y_submit = clf.predict(X_submit)"
   ]
  },
  {
   "cell_type": "markdown",
   "metadata": {},
   "source": [
    "# Submitting"
   ]
  },
  {
   "cell_type": "code",
   "execution_count": 265,
   "metadata": {
    "collapsed": true
   },
   "outputs": [],
   "source": [
    "def export_submission(mypred):\n",
    "    mypred = pd.DataFrame(mypred)\n",
    "    \n",
    "    submit['pred'] = mypred\n",
    "    submit['CODEINSEE'] = submit_CODINSEE\n",
    "    \n",
    "    mysubmission = pd.DataFrame({'count' : submit.groupby( [ 'CODEINSEE'] )['pred'].sum()}).reset_index()\n",
    "    mysubmission.columns = ['Codinsee', 'nb_ev'] \n",
    "    mysubmission.to_csv('nb_ev_train.csv', sep=',', index=False)\n",
    "\n",
    "    mysub_rank = mysubmission.sort_values(by = 'nb_ev', ascending=False).ix[:,0]\n",
    "    mysub_rank.to_csv('permut_train.csv', sep=',', index=False)"
   ]
  },
  {
   "cell_type": "code",
   "execution_count": 245,
   "metadata": {
    "collapsed": true
   },
   "outputs": [],
   "source": [
    "export_submission(y_submit)"
   ]
  },
  {
   "cell_type": "markdown",
   "metadata": {},
   "source": [
    "# Metric"
   ]
  },
  {
   "cell_type": "code",
   "execution_count": 267,
   "metadata": {
    "collapsed": false
   },
   "outputs": [],
   "source": [
    "from sklearn.metrics import mean_squared_error\n",
    "from math import sqrt\n",
    "\n",
    "def rmse(y_actual, y_predicted):\n",
    "    return sqrt(mean_squared_error(y_actual, y_predicted))"
   ]
  },
  {
   "cell_type": "markdown",
   "metadata": {},
   "source": [
    "# Aggrégé par communes"
   ]
  },
  {
   "cell_type": "code",
   "execution_count": 268,
   "metadata": {
    "collapsed": true
   },
   "outputs": [],
   "source": [
    "communes_train = [6007, 6008, 6010, 6028, 6029, 6038, 6068, 6071, 6079, 6084, 6085, 6089, 6090, 6094, 6069, 6134, 6154, 6155, 6161, 83118]\n",
    "communes_test = [6003, 6004, 6016, 6030, 6070, 6095, 6108, 6112, 6116, 6138, 6152]"
   ]
  },
  {
   "cell_type": "code",
   "execution_count": 276,
   "metadata": {
    "collapsed": false
   },
   "outputs": [],
   "source": [
    "communes = pd.DataFrame(data.CODINSEE_pose.unique())\n",
    "communes.columns = ['CODINSEE']"
   ]
  },
  {
   "cell_type": "code",
   "execution_count": 289,
   "metadata": {
    "collapsed": false
   },
   "outputs": [],
   "source": [
    "communes['long_br'] = branchements.groupby( [ 'CODINSEE_pose'] ).sum().ix[:,4]\n",
    "communes['long_ca'] = canalisations.groupby( [ 'CODINSEE_pose'] ).sum().ix[:,4]"
   ]
  },
  {
   "cell_type": "code",
   "execution_count": 290,
   "metadata": {
    "collapsed": false
   },
   "outputs": [
    {
     "data": {
      "text/html": [
       "<div>\n",
       "<table border=\"1\" class=\"dataframe\">\n",
       "  <thead>\n",
       "    <tr style=\"text-align: right;\">\n",
       "      <th></th>\n",
       "      <th>CODINSEE</th>\n",
       "      <th>long_br</th>\n",
       "      <th>long_ca</th>\n",
       "    </tr>\n",
       "  </thead>\n",
       "  <tbody>\n",
       "    <tr>\n",
       "      <th>0</th>\n",
       "      <td>6134.0</td>\n",
       "      <td>NaN</td>\n",
       "      <td>NaN</td>\n",
       "    </tr>\n",
       "    <tr>\n",
       "      <th>1</th>\n",
       "      <td>6154.0</td>\n",
       "      <td>NaN</td>\n",
       "      <td>NaN</td>\n",
       "    </tr>\n",
       "    <tr>\n",
       "      <th>2</th>\n",
       "      <td>6116.0</td>\n",
       "      <td>NaN</td>\n",
       "      <td>NaN</td>\n",
       "    </tr>\n",
       "    <tr>\n",
       "      <th>3</th>\n",
       "      <td>6028.0</td>\n",
       "      <td>NaN</td>\n",
       "      <td>NaN</td>\n",
       "    </tr>\n",
       "    <tr>\n",
       "      <th>4</th>\n",
       "      <td>6003.0</td>\n",
       "      <td>NaN</td>\n",
       "      <td>NaN</td>\n",
       "    </tr>\n",
       "    <tr>\n",
       "      <th>5</th>\n",
       "      <td>6070.0</td>\n",
       "      <td>NaN</td>\n",
       "      <td>NaN</td>\n",
       "    </tr>\n",
       "    <tr>\n",
       "      <th>6</th>\n",
       "      <td>6095.0</td>\n",
       "      <td>NaN</td>\n",
       "      <td>NaN</td>\n",
       "    </tr>\n",
       "    <tr>\n",
       "      <th>7</th>\n",
       "      <td>6071.0</td>\n",
       "      <td>NaN</td>\n",
       "      <td>NaN</td>\n",
       "    </tr>\n",
       "    <tr>\n",
       "      <th>8</th>\n",
       "      <td>6069.0</td>\n",
       "      <td>NaN</td>\n",
       "      <td>NaN</td>\n",
       "    </tr>\n",
       "    <tr>\n",
       "      <th>9</th>\n",
       "      <td>6007.0</td>\n",
       "      <td>NaN</td>\n",
       "      <td>NaN</td>\n",
       "    </tr>\n",
       "    <tr>\n",
       "      <th>10</th>\n",
       "      <td>6090.0</td>\n",
       "      <td>NaN</td>\n",
       "      <td>NaN</td>\n",
       "    </tr>\n",
       "    <tr>\n",
       "      <th>11</th>\n",
       "      <td>6094.0</td>\n",
       "      <td>NaN</td>\n",
       "      <td>NaN</td>\n",
       "    </tr>\n",
       "    <tr>\n",
       "      <th>12</th>\n",
       "      <td>6138.0</td>\n",
       "      <td>NaN</td>\n",
       "      <td>NaN</td>\n",
       "    </tr>\n",
       "    <tr>\n",
       "      <th>13</th>\n",
       "      <td>83118.0</td>\n",
       "      <td>NaN</td>\n",
       "      <td>NaN</td>\n",
       "    </tr>\n",
       "    <tr>\n",
       "      <th>14</th>\n",
       "      <td>6008.0</td>\n",
       "      <td>NaN</td>\n",
       "      <td>NaN</td>\n",
       "    </tr>\n",
       "    <tr>\n",
       "      <th>15</th>\n",
       "      <td>6108.0</td>\n",
       "      <td>NaN</td>\n",
       "      <td>NaN</td>\n",
       "    </tr>\n",
       "    <tr>\n",
       "      <th>16</th>\n",
       "      <td>6079.0</td>\n",
       "      <td>NaN</td>\n",
       "      <td>NaN</td>\n",
       "    </tr>\n",
       "    <tr>\n",
       "      <th>17</th>\n",
       "      <td>6016.0</td>\n",
       "      <td>NaN</td>\n",
       "      <td>NaN</td>\n",
       "    </tr>\n",
       "    <tr>\n",
       "      <th>18</th>\n",
       "      <td>6084.0</td>\n",
       "      <td>NaN</td>\n",
       "      <td>NaN</td>\n",
       "    </tr>\n",
       "    <tr>\n",
       "      <th>19</th>\n",
       "      <td>6029.0</td>\n",
       "      <td>NaN</td>\n",
       "      <td>NaN</td>\n",
       "    </tr>\n",
       "    <tr>\n",
       "      <th>20</th>\n",
       "      <td>6010.0</td>\n",
       "      <td>NaN</td>\n",
       "      <td>NaN</td>\n",
       "    </tr>\n",
       "    <tr>\n",
       "      <th>21</th>\n",
       "      <td>6038.0</td>\n",
       "      <td>NaN</td>\n",
       "      <td>NaN</td>\n",
       "    </tr>\n",
       "    <tr>\n",
       "      <th>22</th>\n",
       "      <td>6085.0</td>\n",
       "      <td>NaN</td>\n",
       "      <td>NaN</td>\n",
       "    </tr>\n",
       "    <tr>\n",
       "      <th>23</th>\n",
       "      <td>6030.0</td>\n",
       "      <td>NaN</td>\n",
       "      <td>NaN</td>\n",
       "    </tr>\n",
       "    <tr>\n",
       "      <th>24</th>\n",
       "      <td>6089.0</td>\n",
       "      <td>NaN</td>\n",
       "      <td>NaN</td>\n",
       "    </tr>\n",
       "    <tr>\n",
       "      <th>25</th>\n",
       "      <td>6068.0</td>\n",
       "      <td>NaN</td>\n",
       "      <td>NaN</td>\n",
       "    </tr>\n",
       "    <tr>\n",
       "      <th>26</th>\n",
       "      <td>6112.0</td>\n",
       "      <td>NaN</td>\n",
       "      <td>NaN</td>\n",
       "    </tr>\n",
       "    <tr>\n",
       "      <th>27</th>\n",
       "      <td>6152.0</td>\n",
       "      <td>NaN</td>\n",
       "      <td>NaN</td>\n",
       "    </tr>\n",
       "    <tr>\n",
       "      <th>28</th>\n",
       "      <td>6155.0</td>\n",
       "      <td>NaN</td>\n",
       "      <td>NaN</td>\n",
       "    </tr>\n",
       "    <tr>\n",
       "      <th>29</th>\n",
       "      <td>6161.0</td>\n",
       "      <td>NaN</td>\n",
       "      <td>NaN</td>\n",
       "    </tr>\n",
       "    <tr>\n",
       "      <th>30</th>\n",
       "      <td>6004.0</td>\n",
       "      <td>NaN</td>\n",
       "      <td>NaN</td>\n",
       "    </tr>\n",
       "  </tbody>\n",
       "</table>\n",
       "</div>"
      ],
      "text/plain": [
       "    CODINSEE  long_br  long_ca\n",
       "0     6134.0      NaN      NaN\n",
       "1     6154.0      NaN      NaN\n",
       "2     6116.0      NaN      NaN\n",
       "3     6028.0      NaN      NaN\n",
       "4     6003.0      NaN      NaN\n",
       "5     6070.0      NaN      NaN\n",
       "6     6095.0      NaN      NaN\n",
       "7     6071.0      NaN      NaN\n",
       "8     6069.0      NaN      NaN\n",
       "9     6007.0      NaN      NaN\n",
       "10    6090.0      NaN      NaN\n",
       "11    6094.0      NaN      NaN\n",
       "12    6138.0      NaN      NaN\n",
       "13   83118.0      NaN      NaN\n",
       "14    6008.0      NaN      NaN\n",
       "15    6108.0      NaN      NaN\n",
       "16    6079.0      NaN      NaN\n",
       "17    6016.0      NaN      NaN\n",
       "18    6084.0      NaN      NaN\n",
       "19    6029.0      NaN      NaN\n",
       "20    6010.0      NaN      NaN\n",
       "21    6038.0      NaN      NaN\n",
       "22    6085.0      NaN      NaN\n",
       "23    6030.0      NaN      NaN\n",
       "24    6089.0      NaN      NaN\n",
       "25    6068.0      NaN      NaN\n",
       "26    6112.0      NaN      NaN\n",
       "27    6152.0      NaN      NaN\n",
       "28    6155.0      NaN      NaN\n",
       "29    6161.0      NaN      NaN\n",
       "30    6004.0      NaN      NaN"
      ]
     },
     "execution_count": 290,
     "metadata": {},
     "output_type": "execute_result"
    }
   ],
   "source": [
    "communes"
   ]
  },
  {
   "cell_type": "code",
   "execution_count": null,
   "metadata": {
    "collapsed": true
   },
   "outputs": [],
   "source": []
  }
 ],
 "metadata": {
  "anaconda-cloud": {},
  "kernelspec": {
   "display_name": "Python [Root]",
   "language": "python",
   "name": "Python [Root]"
  },
  "language_info": {
   "codemirror_mode": {
    "name": "ipython",
    "version": 3
   },
   "file_extension": ".py",
   "mimetype": "text/x-python",
   "name": "python",
   "nbconvert_exporter": "python",
   "pygments_lexer": "ipython3",
   "version": "3.5.2"
  }
 },
 "nbformat": 4,
 "nbformat_minor": 0
}
