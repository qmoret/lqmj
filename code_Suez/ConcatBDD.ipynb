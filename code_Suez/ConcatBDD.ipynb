{
 "cells": [
  {
   "cell_type": "code",
   "execution_count": 109,
   "metadata": {
    "collapsed": true
   },
   "outputs": [],
   "source": [
    "import pandas as pd\n",
    "import numpy as np\n",
    "from sklearn.preprocessing import LabelEncoder"
   ]
  },
  {
   "cell_type": "code",
   "execution_count": 110,
   "metadata": {
    "collapsed": false
   },
   "outputs": [],
   "source": [
    "# Loading all data bases \n",
    "\n",
    "branchements = pd.read_csv('../data_SUEZ/branchements.csv')\n",
    "canalisations = pd.read_csv('../data_SUEZ/canalisations.csv')\n",
    "evenements_train = pd.read_csv('../data_SUEZ/evenements_train.csv')\n",
    "meteo_AlpesMaritimes = pd.read_csv('../data_SUEZ/meteo_AlpesMaritimes_pre_traite.csv')\n",
    "nb_ev_train = pd.read_csv('../data_SUEZ/nb_ev_train.csv')\n",
    "permut_train = pd.read_csv('../data_SUEZ/permut_train.csv')\n",
    "stations_AlpesMaritimes = pd.read_csv('../data_SUEZ/stations_AlpesMaritimes.csv')"
   ]
  },
  {
   "cell_type": "markdown",
   "metadata": {},
   "source": [
    "# Preprocessing"
   ]
  },
  {
   "cell_type": "markdown",
   "metadata": {},
   "source": [
    "## Jointure"
   ]
  },
  {
   "cell_type": "code",
   "execution_count": 111,
   "metadata": {
    "collapsed": false
   },
   "outputs": [],
   "source": [
    "# Renaming columns\n",
    "\n",
    "evenements_train.columns= ['GID_fuite', 'CODINSEE_fuite', 'date_fuite', 'GID_pose', 'COMPO_P', 'geometry_fuite']\n",
    "branchements.columns= ['GID_pose', 'CODINSEE_pose', 'date_pose', 'DIAMETRE', 'DIAMEXT', 'DIAMINT', 'ETAGE',\n",
    "       'GEORIENT', 'LONGCALC', 'MATERIAU', 'geometry_pose']\n",
    "canalisations.columns= ['GID_pose', 'CODINSEE_pose', 'date_pose', 'DIAMETRE', 'DIAMEXT', 'DIAMINT', 'ETAGE',\n",
    "       'GEORIENT', 'LONGCALC', 'MATERIAU', 'geometry_pose']"
   ]
  },
  {
   "cell_type": "code",
   "execution_count": 112,
   "metadata": {
    "collapsed": true
   },
   "outputs": [],
   "source": [
    "evenements_train['fuite'] = 1"
   ]
  },
  {
   "cell_type": "code",
   "execution_count": 113,
   "metadata": {
    "collapsed": false
   },
   "outputs": [],
   "source": [
    "# Différencier les GID des branchements et des canalisations\n",
    "\n",
    "evenements_train['ajout_branch'] = '_b'\n",
    "evenements_train['ajout_can'] = '_c'\n",
    "evenements_train.ix[(evenements_train.COMPO_P == 'E_BRANCH'),'GID_pose'] = evenements_train.ix[(evenements_train.COMPO_P == 'E_BRANCH'),'GID_pose'].map(str) + evenements_train.ix[(evenements_train.COMPO_P == 'E_BRANCH'),'ajout_branch']\n",
    "evenements_train.ix[(evenements_train.COMPO_P == 'E_TRONCO'),'GID_pose'] = evenements_train.ix[(evenements_train.COMPO_P == 'E_TRONCO'),'GID_pose'].map(str) + evenements_train.ix[(evenements_train.COMPO_P == 'E_TRONCO'),'ajout_can']\n",
    "evenements_train.drop('ajout_branch', axis=1, inplace=True)\n",
    "evenements_train.drop('ajout_can', axis=1, inplace=True)\n",
    "\n",
    "branchements['ajout_branch'] = '_b'\n",
    "branchements.GID_pose = branchements.GID_pose.map(str) + branchements.ajout_branch\n",
    "branchements.drop('ajout_branch', axis=1, inplace=True)\n",
    "\n",
    "canalisations['ajout_can'] = '_c'\n",
    "canalisations.GID_pose = canalisations.GID_pose.map(str) + canalisations.ajout_can\n",
    "canalisations.drop('ajout_can', axis=1, inplace=True)"
   ]
  },
  {
   "cell_type": "code",
   "execution_count": 142,
   "metadata": {
    "collapsed": false
   },
   "outputs": [],
   "source": [
    "# Merge elements on evenements (creation BDD complète)\n",
    "\n",
    "elements = pd.concat([canalisations, branchements])\n",
    "data = pd.merge(elements, evenements_train, on = 'GID_pose', how = 'left')"
   ]
  },
  {
   "cell_type": "markdown",
   "metadata": {},
   "source": [
    "## Feature engineering"
   ]
  },
  {
   "cell_type": "code",
   "execution_count": 143,
   "metadata": {
    "collapsed": true
   },
   "outputs": [],
   "source": [
    "# Utiliser le code INSEE de la fuite quand on l'a plutot que celui de la pose\n",
    "data.ix[~data.CODINSEE_fuite.isnull(), 'CODINSEE_pose'] = data.ix[~data.CODINSEE_fuite.isnull(), 'CODINSEE_fuite']\n",
    "data.drop('CODINSEE_fuite', axis = 1, inplace = True)"
   ]
  },
  {
   "cell_type": "code",
   "execution_count": 144,
   "metadata": {
    "collapsed": false
   },
   "outputs": [],
   "source": [
    "# Convertir âge\n",
    "\n",
    "def to_day(x):\n",
    "    if (str(x) == 'NaT'):\n",
    "        return np.nan\n",
    "    else:\n",
    "        return x.days\n",
    "\n",
    "data['age'] = pd.to_datetime('2016-12-31') - pd.to_datetime(data['date_pose'])\n",
    "data.age = data.age.map(to_day)"
   ]
  },
  {
   "cell_type": "code",
   "execution_count": 145,
   "metadata": {
    "collapsed": true
   },
   "outputs": [],
   "source": [
    "data.ix[data.fuite.isnull(), 'fuite'] = 0"
   ]
  },
  {
   "cell_type": "code",
   "execution_count": 146,
   "metadata": {
    "collapsed": false
   },
   "outputs": [],
   "source": [
    "# Encode categorical variables\n",
    "\n",
    "le = LabelEncoder()\n",
    "mapping = dict()\n",
    "for col, dtype in zip(data.columns, data.dtypes):\n",
    "    if dtype == 'object':\n",
    "        data[col] = data[col].apply(lambda s: str(s))\n",
    "        # Replace 0 and NaNs with unique label : 'None'\n",
    "        data[col] = data[col].where(~data[col].isin(['0', 'nan']), 'None')\n",
    "        data[col] = le.fit_transform(data[col])\n",
    "        mapping[col] = dict(zip(le.inverse_transform(data[col].unique()), data[col].unique()))"
   ]
  },
  {
   "cell_type": "code",
   "execution_count": 147,
   "metadata": {
    "collapsed": false
   },
   "outputs": [],
   "source": [
    "# Replace NaNs with 0\n",
    "data = data.apply(lambda x: x.fillna(x.mean()),axis=0)"
   ]
  },
  {
   "cell_type": "markdown",
   "metadata": {},
   "source": [
    "# Training"
   ]
  },
  {
   "cell_type": "markdown",
   "metadata": {},
   "source": [
    "## Séparation submit et jeu d'entrainement"
   ]
  },
  {
   "cell_type": "code",
   "execution_count": 237,
   "metadata": {
    "collapsed": true
   },
   "outputs": [],
   "source": [
    "# Séparer le dataset d'entrainment du dataset de test\n",
    "test_insee = [6003, 6004, 6016, 6030, 6070, 6095, 6108, 6112, 6116, 6138, 6152]\n",
    "data_known = data[~data['CODINSEE_pose'].isin(test_insee)]\n",
    "submit = data[data['CODINSEE_pose'].isin(test_insee)]"
   ]
  },
  {
   "cell_type": "code",
   "execution_count": 238,
   "metadata": {
    "collapsed": false
   },
   "outputs": [],
   "source": [
    "submit = submit.reset_index().ix[:,1:18]\n",
    "submit_CODINSEE = submit.CODINSEE_pose"
   ]
  },
  {
   "cell_type": "code",
   "execution_count": 239,
   "metadata": {
    "collapsed": false
   },
   "outputs": [],
   "source": [
    "# Remove unnecessary columns\n",
    "fuite_columns = ['GID_fuite', 'date_fuite', 'geometry_fuite']\n",
    "id_columns = ['GID_pose', 'CODINSEE_pose']\n",
    "a_predir = ['fuite']\n",
    "autres = ['GEORIENT', 'date_pose', 'geometry_pose', 'ETAGE', 'DIAMINT', 'DIAMEXT']\n",
    "mask = id_columns + fuite_columns + a_predir + autres  # geometry_pose pas encore exploitable\n",
    "\n",
    "X = data_known.drop(mask, axis = 1)\n",
    "y = data_known['fuite']\n",
    "\n",
    "X_submit = submit.drop(mask, axis = 1)"
   ]
  },
  {
   "cell_type": "markdown",
   "metadata": {},
   "source": [
    "## Random Forest"
   ]
  },
  {
   "cell_type": "code",
   "execution_count": 240,
   "metadata": {
    "collapsed": false
   },
   "outputs": [
    {
     "data": {
      "text/plain": [
       "RandomForestClassifier(bootstrap=True, class_weight=None, criterion='gini',\n",
       "            max_depth=None, max_features='auto', max_leaf_nodes=None,\n",
       "            min_samples_leaf=1, min_samples_split=2,\n",
       "            min_weight_fraction_leaf=0.0, n_estimators=10, n_jobs=1,\n",
       "            oob_score=False, random_state=None, verbose=0,\n",
       "            warm_start=False)"
      ]
     },
     "execution_count": 240,
     "metadata": {},
     "output_type": "execute_result"
    }
   ],
   "source": [
    "from sklearn.ensemble import RandomForestClassifier\n",
    "clf = RandomForestClassifier()\n",
    "\n",
    "clf.fit(X,y)"
   ]
  },
  {
   "cell_type": "code",
   "execution_count": 241,
   "metadata": {
    "collapsed": false
   },
   "outputs": [],
   "source": [
    "y_submit = clf.predict(X_submit)"
   ]
  },
  {
   "cell_type": "markdown",
   "metadata": {},
   "source": [
    "# Submitting"
   ]
  },
  {
   "cell_type": "code",
   "execution_count": 244,
   "metadata": {
    "collapsed": true
   },
   "outputs": [],
   "source": [
    "def export_submission(mypred):\n",
    "    mypred = pd.DataFrame(mypred)\n",
    "    \n",
    "    submit['pred'] = mypred\n",
    "    submit['CODEINSEE'] = submit_CODINSEE\n",
    "    \n",
    "    mysubmission = pd.DataFrame({'count' : submit.groupby( [ 'CODEINSEE'] )['pred'].sum()}).reset_index()\n",
    "    mysubmission.columns = ['Codinsee', 'nb_ev'] \n",
    "    mysubmission.to_csv('nb_ev_train.csv', sep=',', index=False)\n",
    "\n",
    "    mysub_rank = mysubmission.sort_values(by = 'nb_ev', ascending=False).ix[:,0]\n",
    "    mysub_rank.to_csv('permut_train.csv', sep=',', index=False)"
   ]
  },
  {
   "cell_type": "code",
   "execution_count": 245,
   "metadata": {
    "collapsed": true
   },
   "outputs": [],
   "source": [
    "export_submission(y_submit)"
   ]
  },
  {
   "cell_type": "markdown",
   "metadata": {},
   "source": [
    "# Metric"
   ]
  },
  {
   "cell_type": "code",
   "execution_count": null,
   "metadata": {
    "collapsed": true
   },
   "outputs": [],
   "source": [
    "from sklearn.metrics import mean_squared_error\n",
    "from math import sqrt\n",
    "\n",
    "def rmse(y_actual, y_predicted)\n",
    "    return sqrt(mean_squared_error(y_actual, y_predicted))"
   ]
  }
 ],
 "metadata": {
  "anaconda-cloud": {},
  "kernelspec": {
   "display_name": "Python [Root]",
   "language": "python",
   "name": "Python [Root]"
  },
  "language_info": {
   "codemirror_mode": {
    "name": "ipython",
    "version": 3
   },
   "file_extension": ".py",
   "mimetype": "text/x-python",
   "name": "python",
   "nbconvert_exporter": "python",
   "pygments_lexer": "ipython3",
   "version": "3.5.2"
  }
 },
 "nbformat": 4,
 "nbformat_minor": 0
}
