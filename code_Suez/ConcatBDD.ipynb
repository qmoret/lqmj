{
 "cells": [
  {
   "cell_type": "code",
   "execution_count": 2,
   "metadata": {
    "collapsed": true
   },
   "outputs": [],
   "source": [
    "import pandas as pd\n",
    "import numpy as np"
   ]
  },
  {
   "cell_type": "code",
   "execution_count": 7,
   "metadata": {
    "collapsed": false
   },
   "outputs": [],
   "source": [
    "# Loading all data bases \n",
    "\n",
    "branchements = pd.read_csv('../data_SUEZ/branchements.csv')\n",
    "canalisations = pd.read_csv('../data_SUEZ/canalisations.csv')\n",
    "evenements_train = pd.read_csv('../data_SUEZ/evenements_train.csv')\n",
    "meteo_AlpesMaritimes = pd.read_csv('../data_SUEZ/meteo_AlpesMaritimes_pre_traite.csv')\n",
    "nb_ev_train = pd.read_csv('../data_SUEZ/nb_ev_train.csv')\n",
    "permut_train = pd.read_csv('../data_SUEZ/permut_train.csv')\n",
    "stations_AlpesMaritimes = pd.read_csv('../data_SUEZ/stations_AlpesMaritimes.csv')"
   ]
  },
  {
   "cell_type": "code",
   "execution_count": null,
   "metadata": {
    "collapsed": true
   },
   "outputs": [],
   "source": []
  },
  {
   "cell_type": "code",
   "execution_count": 29,
   "metadata": {
    "collapsed": false
   },
   "outputs": [
    {
     "data": {
      "text/plain": [
       "(36179, 11)"
      ]
     },
     "execution_count": 29,
     "metadata": {},
     "output_type": "execute_result"
    }
   ],
   "source": [
    "branchements.shape"
   ]
  },
  {
   "cell_type": "code",
   "execution_count": 30,
   "metadata": {
    "collapsed": false
   },
   "outputs": [
    {
     "data": {
      "text/plain": [
       "(2649, 6)"
      ]
     },
     "execution_count": 30,
     "metadata": {},
     "output_type": "execute_result"
    }
   ],
   "source": [
    "evenements_train.shape"
   ]
  },
  {
   "cell_type": "code",
   "execution_count": 25,
   "metadata": {
    "collapsed": false
   },
   "outputs": [],
   "source": [
    "# Renaming columns\n",
    "\n",
    "evenements_train.columns= ['GID_fuite', 'CODINSEE_fuite', 'date_fuite', 'GID_pose', 'COMPO_P', 'geometry_fuite']\n",
    "branchements.columns= ['GID_pose', 'CODINSEE_pose', 'date_pose', 'DIAMETRE', 'DIAMEXT', 'DIAMINT', 'ETAGE',\n",
    "       'GEORIENT', 'LONGCALC', 'MATERIAU', 'geometry_pose']\n",
    "canalisations.columns= ['GID_pose', 'CODINSEE_pose', 'date_pose', 'DIAMETRE', 'DIAMEXT', 'DIAMINT', 'ETAGE',\n",
    "       'GEORIENT', 'LONGCALC', 'MATERIAU', 'geometry_pose']"
   ]
  },
  {
   "cell_type": "code",
   "execution_count": 32,
   "metadata": {
    "collapsed": false
   },
   "outputs": [],
   "source": [
    "# Creating COMPO_P column in canalisation and branchements \n",
    "\n",
    "canalisations['COMPO_P'] = 'E_TRONCO'\n",
    "branchements['COMPO_P'] = 'E_BRANCH'\n",
    "elements = pd.concat([canalisations, branchements])\n",
    "\n",
    "#evenements_train_br = evenements_train[ evenements_train['COMPO_P'] == 'E_BRANCH']\n",
    "#evenements_train_canal = evenements_train[ evenements_train['COMPO_P'] == 'E_TRONCO']"
   ]
  },
  {
   "cell_type": "code",
   "execution_count": 63,
   "metadata": {
    "collapsed": true
   },
   "outputs": [],
   "source": [
    "# Merge elements on evenements (creation BDD complète)\n",
    "\n",
    "elements_train = pd.merge(elements, evenements_train, on = 'GID_pose', how = 'left')"
   ]
  },
  {
   "cell_type": "code",
   "execution_count": 64,
   "metadata": {
    "collapsed": false
   },
   "outputs": [
    {
     "data": {
      "text/plain": [
       "79076"
      ]
     },
     "execution_count": 64,
     "metadata": {},
     "output_type": "execute_result"
    }
   ],
   "source": [
    "# Create BDD modèle 1ère fuite\n",
    "\n",
    "elements_train['fuite'] = \n",
    "elements_train['GID_pose' elements_train['GID_fuite'].isnull().sum()"
   ]
  },
  {
   "cell_type": "code",
   "execution_count": 27,
   "metadata": {
    "collapsed": false
   },
   "outputs": [
    {
     "data": {
      "text/plain": [
       "5"
      ]
     },
     "execution_count": 27,
     "metadata": {},
     "output_type": "execute_result"
    }
   ],
   "source": [
    "# Put info from branchements in evenements_br \n",
    "\n",
    "merge_br = pd.merge(evenements_train_br, branchements, on = 'GID_pose')\n",
    "sum(merge_br.CODINSEE_fuite != merge_br.CODINSEE_pose)"
   ]
  },
  {
   "cell_type": "code",
   "execution_count": 28,
   "metadata": {
    "collapsed": false
   },
   "outputs": [
    {
     "data": {
      "text/plain": [
       "3"
      ]
     },
     "execution_count": 28,
     "metadata": {},
     "output_type": "execute_result"
    }
   ],
   "source": [
    "# Put info from canalisation in evenements_canal \n",
    "\n",
    "merge_canal = pd.merge(evenements_train_canal, canalisations, on = 'GID_pose')\n",
    "sum(merge_canal.CODINSEE_fuite != merge_canal.CODINSEE_pose)"
   ]
  },
  {
   "cell_type": "code",
   "execution_count": null,
   "metadata": {
    "collapsed": true
   },
   "outputs": [],
   "source": []
  }
 ],
 "metadata": {
  "anaconda-cloud": {},
  "kernelspec": {
   "display_name": "Python [Root]",
   "language": "python",
   "name": "Python [Root]"
  },
  "language_info": {
   "codemirror_mode": {
    "name": "ipython",
    "version": 3
   },
   "file_extension": ".py",
   "mimetype": "text/x-python",
   "name": "python",
   "nbconvert_exporter": "python",
   "pygments_lexer": "ipython3",
   "version": "3.5.2"
  }
 },
 "nbformat": 4,
 "nbformat_minor": 0
}
