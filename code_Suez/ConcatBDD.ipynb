{
 "cells": [
  {
   "cell_type": "code",
   "execution_count": 6,
   "metadata": {
    "collapsed": true
   },
   "outputs": [],
   "source": [
    "import pandas as pd\n",
    "import numpy as np"
   ]
  },
  {
   "cell_type": "code",
   "execution_count": 60,
   "metadata": {
    "collapsed": false
   },
   "outputs": [],
   "source": [
    "# Loading all data bases \n",
    "\n",
    "branchements = pd.read_csv('../data_SUEZ/branchements.csv')\n",
    "canalisations = pd.read_csv('../data_SUEZ/canalisations.csv')\n",
    "evenements_train = pd.read_csv('../data_SUEZ/evenements_train.csv')\n",
    "meteo_AlpesMaritimes = pd.read_csv('../data_SUEZ/meteo_AlpesMaritimes_pre_traite.csv')\n",
    "nb_ev_train = pd.read_csv('../data_SUEZ/nb_ev_train.csv')\n",
    "permut_train = pd.read_csv('../data_SUEZ/permut_train.csv')\n",
    "stations_AlpesMaritimes = pd.read_csv('../data_SUEZ/stations_AlpesMaritimes.csv')"
   ]
  },
  {
   "cell_type": "code",
   "execution_count": 61,
   "metadata": {
    "collapsed": false
   },
   "outputs": [],
   "source": [
    "# Renaming columns\n",
    "\n",
    "evenements_train.columns= ['GID_fuite', 'CODINSEE_fuite', 'date_fuite', 'GID_pose', 'COMPO_P', 'geometry_fuite']\n",
    "branchements.columns= ['GID_pose', 'CODINSEE_pose', 'date_pose', 'DIAMETRE', 'DIAMEXT', 'DIAMINT', 'ETAGE',\n",
    "       'GEORIENT', 'LONGCALC', 'MATERIAU', 'geometry_pose']\n",
    "canalisations.columns= ['GID_pose', 'CODINSEE_pose', 'date_pose', 'DIAMETRE', 'DIAMEXT', 'DIAMINT', 'ETAGE',\n",
    "       'GEORIENT', 'LONGCALC', 'MATERIAU', 'geometry_pose']"
   ]
  },
  {
   "cell_type": "code",
   "execution_count": 64,
   "metadata": {
    "collapsed": false
   },
   "outputs": [],
   "source": [
    "evenements_train['ajout_branch'] = '_b'\n",
    "evenements_train['ajout_can'] = '_c'\n",
    "evenements_train.ix[(evenements_train.COMPO_P == 'E_BRANCH'),'GID_pose'] = evenements_train.ix[(evenements_train.COMPO_P == 'E_BRANCH'),'GID_pose'].map(str) + evenements_train.ix[(evenements_train.COMPO_P == 'E_BRANCH'),'ajout_branch']\n",
    "evenements_train.ix[(evenements_train.COMPO_P == 'E_TRONCO'),'GID_pose'] = evenements_train.ix[(evenements_train.COMPO_P == 'E_TRONCO'),'GID_pose'].map(str) + evenements_train.ix[(evenements_train.COMPO_P == 'E_TRONCO'),'ajout_can']\n",
    "evenements_train.drop('ajout_branch', axis=1, inplace=True)\n",
    "evenements_train.drop('ajout_can', axis=1, inplace=True)\n",
    "\n",
    "branchements['ajout_branch'] = '_b'\n",
    "branchements.GID_pose = branchements.GID_pose.map(str) + branchements.ajout_branch\n",
    "branchements.drop('ajout_branch', axis=1, inplace=True)\n",
    "\n",
    "canalisations['ajout_can'] = '_c'\n",
    "canalisations.GID_pose = canalisations.GID_pose.map(str) + canalisations.ajout_can\n",
    "canalisations.drop('ajout_can', axis=1, inplace=True)"
   ]
  },
  {
   "cell_type": "code",
   "execution_count": 65,
   "metadata": {
    "collapsed": false
   },
   "outputs": [],
   "source": [
    "# Creating COMPO_P column in canalisation and branchements \n",
    "\n",
    "canalisations['COMPO_P'] = 'E_TRONCO'\n",
    "branchements['COMPO_P'] = 'E_BRANCH'\n",
    "elements = pd.concat([canalisations, branchements])"
   ]
  },
  {
   "cell_type": "code",
   "execution_count": 66,
   "metadata": {
    "collapsed": true
   },
   "outputs": [],
   "source": [
    "# Merge elements on evenements (creation BDD complète)\n",
    "\n",
    "elements_train = pd.merge(elements, evenements_train, on = 'GID_pose', how = 'left')"
   ]
  },
  {
   "cell_type": "code",
   "execution_count": 64,
   "metadata": {
    "collapsed": false
   },
   "outputs": [
    {
     "data": {
      "text/plain": [
       "79076"
      ]
     },
     "execution_count": 64,
     "metadata": {},
     "output_type": "execute_result"
    }
   ],
   "source": [
    "# Create BDD modèle 1ère fuite\n",
    "\n",
    "elements_train['fuite'] = \n",
    "elements_train['GID_pose' elements_train['GID_fuite'].isnull().sum()"
   ]
  },
  {
   "cell_type": "code",
   "execution_count": 27,
   "metadata": {
    "collapsed": false
   },
   "outputs": [
    {
     "data": {
      "text/plain": [
       "5"
      ]
     },
     "execution_count": 27,
     "metadata": {},
     "output_type": "execute_result"
    }
   ],
   "source": [
    "# Put info from branchements in evenements_br \n",
    "\n",
    "merge_br = pd.merge(evenements_train_br, branchements, on = 'GID_pose')\n",
    "sum(merge_br.CODINSEE_fuite != merge_br.CODINSEE_pose)"
   ]
  },
  {
   "cell_type": "code",
   "execution_count": 28,
   "metadata": {
    "collapsed": false
   },
   "outputs": [
    {
     "data": {
      "text/plain": [
       "3"
      ]
     },
     "execution_count": 28,
     "metadata": {},
     "output_type": "execute_result"
    }
   ],
   "source": [
    "# Put info from canalisation in evenements_canal \n",
    "\n",
    "merge_canal = pd.merge(evenements_train_canal, canalisations, on = 'GID_pose')\n",
    "sum(merge_canal.CODINSEE_fuite != merge_canal.CODINSEE_pose)"
   ]
  },
  {
   "cell_type": "code",
   "execution_count": 63,
   "metadata": {
    "collapsed": false
   },
   "outputs": [
    {
     "ename": "SyntaxError",
     "evalue": "invalid token (<ipython-input-63-2407e25f3a1b>, line 1)",
     "output_type": "error",
     "traceback": [
      "\u001b[0;36m  File \u001b[0;32m\"<ipython-input-63-2407e25f3a1b>\"\u001b[0;36m, line \u001b[0;32m1\u001b[0m\n\u001b[0;31m    elements_train['CODINSEE_fuite'].isin([06003, 06004, 06016, 06030, 06070, 06095, 06108, 06112, 06116, 06138, 06152]\u001b[0m\n\u001b[0m                                                                                  ^\u001b[0m\n\u001b[0;31mSyntaxError\u001b[0m\u001b[0;31m:\u001b[0m invalid token\n"
     ]
    }
   ],
   "source": [
    "elements_train['CODINSEE_fuite'].isin([06003, 06004, 06016, 06030, 06070, 06095, 06108, 06112, 06116, 06138, 06152]\n",
    "])"
   ]
  },
  {
   "cell_type": "code",
   "execution_count": null,
   "metadata": {
    "collapsed": true
   },
   "outputs": [],
   "source": []
  }
 ],
 "metadata": {
  "anaconda-cloud": {},
  "kernelspec": {
   "display_name": "Python 2",
   "language": "python",
   "name": "python2"
  },
  "language_info": {
   "codemirror_mode": {
    "name": "ipython",
    "version": 2
   },
   "file_extension": ".py",
   "mimetype": "text/x-python",
   "name": "python",
   "nbconvert_exporter": "python",
   "pygments_lexer": "ipython2",
   "version": "2.7.13"
  }
 },
 "nbformat": 4,
 "nbformat_minor": 0
}
