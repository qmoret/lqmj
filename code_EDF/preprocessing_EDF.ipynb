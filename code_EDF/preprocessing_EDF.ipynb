{
 "cells": [
  {
   "cell_type": "code",
   "execution_count": 15,
   "metadata": {
    "collapsed": false
   },
   "outputs": [
    {
     "name": "stdout",
     "output_type": "stream",
     "text": [
      "Populating the interactive namespace from numpy and matplotlib\n"
     ]
    }
   ],
   "source": [
    "import pandas as pd\n",
    "import numpy as np\n",
    "%pylab inline"
   ]
  },
  {
   "cell_type": "markdown",
   "metadata": {},
   "source": [
    "# Import data"
   ]
  },
  {
   "cell_type": "markdown",
   "metadata": {},
   "source": [
    "### EDF"
   ]
  },
  {
   "cell_type": "code",
   "execution_count": 49,
   "metadata": {
    "collapsed": false
   },
   "outputs": [],
   "source": [
    "tr_input = pd.read_csv(\"../data_EDF/training_inputs.csv\", sep = \";\")\n",
    "output = pd.read_csv(\"../data_EDF/challenge_output_data_training_file_predict\"\n",
    "                     \"_which_clients_reduced_their_consumption.csv\", sep = \";\")\n",
    "data_edf = pd.merge(left=tr_input, right=output, how='left', on=\"ID\")"
   ]
  },
  {
   "cell_type": "code",
   "execution_count": 80,
   "metadata": {
    "collapsed": false
   },
   "outputs": [
    {
     "data": {
      "text/plain": [
       "1727"
      ]
     },
     "execution_count": 80,
     "metadata": {},
     "output_type": "execute_result"
    }
   ],
   "source": [
    "sum(data_edf['COD_INSEE'].isnull())"
   ]
  },
  {
   "cell_type": "code",
   "execution_count": 81,
   "metadata": {
    "collapsed": false
   },
   "outputs": [
    {
     "data": {
      "text/plain": [
       "1727"
      ]
     },
     "execution_count": 81,
     "metadata": {},
     "output_type": "execute_result"
    }
   ],
   "source": [
    "sum(data_edf['COD_IRIS'].isnull())"
   ]
  },
  {
   "cell_type": "markdown",
   "metadata": {},
   "source": [
    "### ENEDIS"
   ]
  },
  {
   "cell_type": "code",
   "execution_count": 48,
   "metadata": {
    "collapsed": false
   },
   "outputs": [
    {
     "name": "stderr",
     "output_type": "stream",
     "text": [
      "C:\\Users\\Hippo\\Anaconda3\\lib\\site-packages\\IPython\\core\\interactiveshell.py:2717: DtypeWarning: Columns (13) have mixed types. Specify dtype option on import or set low_memory=False.\n",
      "  interactivity=interactivity, compiler=compiler, result=result)\n"
     ]
    }
   ],
   "source": [
    "data_enedis = pd.read_csv(\"../data_EDF/consommation-electrique-par-secteurs-dactivite.csv\", sep = \";\")"
   ]
  },
  {
   "cell_type": "code",
   "execution_count": 59,
   "metadata": {
    "collapsed": false
   },
   "outputs": [
    {
     "name": "stdout",
     "output_type": "stream",
     "text": [
      "INSEE REGI\n",
      "INSEE DEPT\n",
      "INSEE EPCI\n",
      "INSEE COMM\n",
      "INSEE IRIS\n",
      "Maille géographique\n",
      "Année\n",
      "Nom IRIS\n",
      "Code IRIS\n",
      "Type IRIS\n",
      "Nom commune\n",
      "Code commune\n",
      "Nom EPCI\n",
      "Code EPCI\n",
      "Type EPCI\n",
      "Nom département\n",
      "Code département\n",
      "Nom région\n",
      "Code région\n",
      "Nb sites secteur résidentiel Enedis\n",
      "Conso totale secteur résidentiel Enedis (MWh)\n",
      "Conso moyenne secteur résidentiel Enedis (MWh)\n",
      "Nb sites Agriculture Enedis\n",
      "Conso totale Agriculture Enedis (MWh)\n",
      "Nb sites Industrie Enedis\n",
      "Conso totale Industrie Enedis (MWh)\n",
      "Nb sites Tertiaire Enedis\n",
      "Conso totale Tertiaire Enedis (MWh)\n",
      "Nb sites Secteur non affecté Enedis\n",
      "Conso totale Secteur non affecté Enedis (MWh)\n",
      "Geo Point\n",
      "Geo Shape\n"
     ]
    }
   ],
   "source": [
    "for s in data_enedis.columns:\n",
    "    print(s)"
   ]
  },
  {
   "cell_type": "code",
   "execution_count": 58,
   "metadata": {
    "collapsed": false
   },
   "outputs": [
    {
     "data": {
      "text/plain": [
       "11456"
      ]
     },
     "execution_count": 58,
     "metadata": {},
     "output_type": "execute_result"
    }
   ],
   "source": [
    "sum(data_enedis[\"INSEE IRIS\"]!=data_enedis['Code IRIS'])"
   ]
  },
  {
   "cell_type": "markdown",
   "metadata": {},
   "source": [
    "##### Clean dataset"
   ]
  },
  {
   "cell_type": "code",
   "execution_count": 61,
   "metadata": {
    "collapsed": true
   },
   "outputs": [],
   "source": [
    "to_keep = ['Code IRIS', \n",
    "           'Nb sites secteur résidentiel Enedis', \n",
    "           'Conso totale secteur résidentiel Enedis (MWh)', \n",
    "           'Conso moyenne secteur résidentiel Enedis (MWh)']\n",
    "data_enedis_kept = data_enedis[to_keep]\n",
    "data_enedis_kept = data_enedis_kept.dropna()"
   ]
  },
  {
   "cell_type": "code",
   "execution_count": null,
   "metadata": {
    "collapsed": true
   },
   "outputs": [],
   "source": []
  },
  {
   "cell_type": "markdown",
   "metadata": {},
   "source": [
    "### Merge datasets"
   ]
  },
  {
   "cell_type": "code",
   "execution_count": 64,
   "metadata": {
    "collapsed": false
   },
   "outputs": [],
   "source": [
    "data = pd.merge(left=data_edf, right=data_enedis_kept, how='left', left_on=\"COD_INSEE\", right_on=\"Code IRIS\")"
   ]
  },
  {
   "cell_type": "code",
   "execution_count": 65,
   "metadata": {
    "collapsed": false
   },
   "outputs": [
    {
     "data": {
      "text/plain": [
       "(20441064, 114)"
      ]
     },
     "execution_count": 65,
     "metadata": {},
     "output_type": "execute_result"
    }
   ],
   "source": [
    "data.shape"
   ]
  },
  {
   "cell_type": "code",
   "execution_count": 66,
   "metadata": {
    "collapsed": false
   },
   "outputs": [
    {
     "data": {
      "text/html": [
       "<div>\n",
       "<table border=\"1\" class=\"dataframe\">\n",
       "  <thead>\n",
       "    <tr style=\"text-align: right;\">\n",
       "      <th></th>\n",
       "      <th>ID</th>\n",
       "      <th>COD_INSEE</th>\n",
       "      <th>COD_IRIS</th>\n",
       "      <th>C1</th>\n",
       "      <th>C2</th>\n",
       "      <th>C3</th>\n",
       "      <th>C4</th>\n",
       "      <th>C5</th>\n",
       "      <th>C6</th>\n",
       "      <th>C7</th>\n",
       "      <th>...</th>\n",
       "      <th>Q71</th>\n",
       "      <th>Q72</th>\n",
       "      <th>Q73</th>\n",
       "      <th>Q74</th>\n",
       "      <th>Q75</th>\n",
       "      <th>TARGET</th>\n",
       "      <th>Code IRIS</th>\n",
       "      <th>Nb sites secteur résidentiel Enedis</th>\n",
       "      <th>Conso totale secteur résidentiel Enedis (MWh)</th>\n",
       "      <th>Conso moyenne secteur résidentiel Enedis (MWh)</th>\n",
       "    </tr>\n",
       "  </thead>\n",
       "  <tbody>\n",
       "    <tr>\n",
       "      <th>0</th>\n",
       "      <td>0</td>\n",
       "      <td>92025.0</td>\n",
       "      <td>920250102.0</td>\n",
       "      <td>EA</td>\n",
       "      <td>RA</td>\n",
       "      <td>C</td>\n",
       "      <td>IB</td>\n",
       "      <td>0</td>\n",
       "      <td>0</td>\n",
       "      <td>0</td>\n",
       "      <td>...</td>\n",
       "      <td>false</td>\n",
       "      <td>false</td>\n",
       "      <td>NaN</td>\n",
       "      <td>NaN</td>\n",
       "      <td>NaN</td>\n",
       "      <td>0</td>\n",
       "      <td>NaN</td>\n",
       "      <td>NaN</td>\n",
       "      <td>NaN</td>\n",
       "      <td>NaN</td>\n",
       "    </tr>\n",
       "    <tr>\n",
       "      <th>1</th>\n",
       "      <td>1</td>\n",
       "      <td>17359.0</td>\n",
       "      <td>173590000.0</td>\n",
       "      <td>EA</td>\n",
       "      <td>RA</td>\n",
       "      <td>C</td>\n",
       "      <td>IA</td>\n",
       "      <td>0</td>\n",
       "      <td>0</td>\n",
       "      <td>0</td>\n",
       "      <td>...</td>\n",
       "      <td>false</td>\n",
       "      <td>false</td>\n",
       "      <td>True</td>\n",
       "      <td>False</td>\n",
       "      <td>False</td>\n",
       "      <td>0</td>\n",
       "      <td>NaN</td>\n",
       "      <td>NaN</td>\n",
       "      <td>NaN</td>\n",
       "      <td>NaN</td>\n",
       "    </tr>\n",
       "    <tr>\n",
       "      <th>2</th>\n",
       "      <td>2</td>\n",
       "      <td>48156.0</td>\n",
       "      <td>481560000.0</td>\n",
       "      <td>EA</td>\n",
       "      <td>RC</td>\n",
       "      <td>B</td>\n",
       "      <td>IA</td>\n",
       "      <td>0</td>\n",
       "      <td>0</td>\n",
       "      <td>0</td>\n",
       "      <td>...</td>\n",
       "      <td>false</td>\n",
       "      <td>false</td>\n",
       "      <td>NaN</td>\n",
       "      <td>NaN</td>\n",
       "      <td>NaN</td>\n",
       "      <td>0</td>\n",
       "      <td>NaN</td>\n",
       "      <td>NaN</td>\n",
       "      <td>NaN</td>\n",
       "      <td>NaN</td>\n",
       "    </tr>\n",
       "    <tr>\n",
       "      <th>3</th>\n",
       "      <td>3</td>\n",
       "      <td>82125.0</td>\n",
       "      <td>821250000.0</td>\n",
       "      <td>EA</td>\n",
       "      <td>RA</td>\n",
       "      <td>C</td>\n",
       "      <td>IB</td>\n",
       "      <td>0</td>\n",
       "      <td>0</td>\n",
       "      <td>0</td>\n",
       "      <td>...</td>\n",
       "      <td>false</td>\n",
       "      <td>false</td>\n",
       "      <td>NaN</td>\n",
       "      <td>NaN</td>\n",
       "      <td>NaN</td>\n",
       "      <td>1</td>\n",
       "      <td>NaN</td>\n",
       "      <td>NaN</td>\n",
       "      <td>NaN</td>\n",
       "      <td>NaN</td>\n",
       "    </tr>\n",
       "    <tr>\n",
       "      <th>4</th>\n",
       "      <td>4</td>\n",
       "      <td>64422.0</td>\n",
       "      <td>644220102.0</td>\n",
       "      <td>EA</td>\n",
       "      <td>RA</td>\n",
       "      <td>B</td>\n",
       "      <td>IB</td>\n",
       "      <td>0</td>\n",
       "      <td>0</td>\n",
       "      <td>0</td>\n",
       "      <td>...</td>\n",
       "      <td>false</td>\n",
       "      <td>false</td>\n",
       "      <td>NaN</td>\n",
       "      <td>NaN</td>\n",
       "      <td>NaN</td>\n",
       "      <td>0</td>\n",
       "      <td>NaN</td>\n",
       "      <td>NaN</td>\n",
       "      <td>NaN</td>\n",
       "      <td>NaN</td>\n",
       "    </tr>\n",
       "  </tbody>\n",
       "</table>\n",
       "<p>5 rows × 114 columns</p>\n",
       "</div>"
      ],
      "text/plain": [
       "   ID  COD_INSEE     COD_IRIS  C1  C2 C3  C4  C5  C6  C7  \\\n",
       "0   0    92025.0  920250102.0  EA  RA  C  IB   0   0   0   \n",
       "1   1    17359.0  173590000.0  EA  RA  C  IA   0   0   0   \n",
       "2   2    48156.0  481560000.0  EA  RC  B  IA   0   0   0   \n",
       "3   3    82125.0  821250000.0  EA  RA  C  IB   0   0   0   \n",
       "4   4    64422.0  644220102.0  EA  RA  B  IB   0   0   0   \n",
       "\n",
       "                        ...                          Q71    Q72   Q73    Q74  \\\n",
       "0                       ...                        false  false   NaN    NaN   \n",
       "1                       ...                        false  false  True  False   \n",
       "2                       ...                        false  false   NaN    NaN   \n",
       "3                       ...                        false  false   NaN    NaN   \n",
       "4                       ...                        false  false   NaN    NaN   \n",
       "\n",
       "     Q75 TARGET Code IRIS  Nb sites secteur résidentiel Enedis  \\\n",
       "0    NaN      0       NaN                                  NaN   \n",
       "1  False      0       NaN                                  NaN   \n",
       "2    NaN      0       NaN                                  NaN   \n",
       "3    NaN      1       NaN                                  NaN   \n",
       "4    NaN      0       NaN                                  NaN   \n",
       "\n",
       "   Conso totale secteur résidentiel Enedis (MWh)  \\\n",
       "0                                            NaN   \n",
       "1                                            NaN   \n",
       "2                                            NaN   \n",
       "3                                            NaN   \n",
       "4                                            NaN   \n",
       "\n",
       "   Conso moyenne secteur résidentiel Enedis (MWh)  \n",
       "0                                             NaN  \n",
       "1                                             NaN  \n",
       "2                                             NaN  \n",
       "3                                             NaN  \n",
       "4                                             NaN  \n",
       "\n",
       "[5 rows x 114 columns]"
      ]
     },
     "execution_count": 66,
     "metadata": {},
     "output_type": "execute_result"
    }
   ],
   "source": [
    "data.head()"
   ]
  },
  {
   "cell_type": "code",
   "execution_count": null,
   "metadata": {
    "collapsed": true
   },
   "outputs": [],
   "source": []
  }
 ],
 "metadata": {
  "anaconda-cloud": {},
  "kernelspec": {
   "display_name": "Python [conda root]",
   "language": "python",
   "name": "conda-root-py"
  },
  "language_info": {
   "codemirror_mode": {
    "name": "ipython",
    "version": 3
   },
   "file_extension": ".py",
   "mimetype": "text/x-python",
   "name": "python",
   "nbconvert_exporter": "python",
   "pygments_lexer": "ipython3",
   "version": "3.5.2"
  }
 },
 "nbformat": 4,
 "nbformat_minor": 2
}
